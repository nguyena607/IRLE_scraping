{
 "cells": [
  {
   "cell_type": "code",
   "execution_count": 1,
   "id": "a8507a69",
   "metadata": {},
   "outputs": [],
   "source": [
    "import json\n",
    "import pandas as pd\n",
    "import numpy as np\n",
    "import re\n",
    "from datetime import datetime"
   ]
  },
  {
   "cell_type": "code",
   "execution_count": 2,
   "id": "d362accd",
   "metadata": {},
   "outputs": [],
   "source": [
    "file_path = \"/Users/alyssanguyen/Desktop/IRLE_scraping/csv_files/processed_prices_ubereats_ca_ff_03222024.csv\"\n",
    "ca_ff = pd.read_csv(file_path)"
   ]
  },
  {
   "cell_type": "code",
   "execution_count": 3,
   "id": "31b0e883",
   "metadata": {},
   "outputs": [
    {
     "data": {
      "text/plain": [
       "Index(['Unnamed: 0', 'restaurant_name', 'restaurant_location',\n",
       "       'menu_item_price mean_non_zero', 'menu_item_price median_non_zero',\n",
       "       'menu_item_price std_non_zero', 'restaurant_rating mean',\n",
       "       'menu_item count', 'number_of_ratings first', 'specialty_item', 'combo',\n",
       "       'cheeseburger', 'hamburger', 'fries', 'state', 'zip', 'county_name',\n",
       "       'date', 'uber_eats', 'post_policy', 'fast_food', 'local'],\n",
       "      dtype='object')"
      ]
     },
     "execution_count": 3,
     "metadata": {},
     "output_type": "execute_result"
    }
   ],
   "source": [
    "ca_ff.columns"
   ]
  },
  {
   "cell_type": "code",
   "execution_count": 4,
   "id": "21159f34",
   "metadata": {},
   "outputs": [
    {
     "data": {
      "text/plain": [
       "9"
      ]
     },
     "execution_count": 4,
     "metadata": {},
     "output_type": "execute_result"
    }
   ],
   "source": [
    "#Unique Restaurants\n",
    "len(ca_ff['restaurant_name'].unique())"
   ]
  },
  {
   "cell_type": "code",
   "execution_count": 5,
   "id": "f3fd7e5b",
   "metadata": {},
   "outputs": [
    {
     "data": {
      "text/plain": [
       "29"
      ]
     },
     "execution_count": 5,
     "metadata": {},
     "output_type": "execute_result"
    }
   ],
   "source": [
    "#Unique Counties \n",
    "len(ca_ff['county_name'].unique())"
   ]
  },
  {
   "cell_type": "code",
   "execution_count": 6,
   "id": "f6de93c0",
   "metadata": {},
   "outputs": [],
   "source": [
    "def mean_non_zero(x):\n",
    "    return np.mean(x[x != 0]) if np.any(x != 0) else 0\n",
    "\n",
    "def median_non_zero(x):\n",
    "    return np.median(x[x != 0]) if np.any(x != 0) else 0\n",
    "\n",
    "def std_non_zero(x):\n",
    "    return np.std(x[x != 0]) if np.any(x != 0) else 0"
   ]
  },
  {
   "cell_type": "code",
   "execution_count": null,
   "id": "71e73bf8",
   "metadata": {},
   "outputs": [],
   "source": []
  },
  {
   "cell_type": "code",
   "execution_count": 121,
   "id": "359d4538",
   "metadata": {},
   "outputs": [
    {
     "data": {
      "text/html": [
       "<div>\n",
       "<style scoped>\n",
       "    .dataframe tbody tr th:only-of-type {\n",
       "        vertical-align: middle;\n",
       "    }\n",
       "\n",
       "    .dataframe tbody tr th {\n",
       "        vertical-align: top;\n",
       "    }\n",
       "\n",
       "    .dataframe thead th {\n",
       "        text-align: right;\n",
       "    }\n",
       "</style>\n",
       "<table border=\"1\" class=\"dataframe\">\n",
       "  <thead>\n",
       "    <tr style=\"text-align: right;\">\n",
       "      <th></th>\n",
       "      <th>Restaurant Name</th>\n",
       "      <th>Average Menu Item Price</th>\n",
       "      <th>Median Menu Item Price</th>\n",
       "      <th>Std Dev Menu Item Price</th>\n",
       "      <th>Average Restaurant Rating</th>\n",
       "      <th>Average Menu Item Count</th>\n",
       "      <th>Average Hamburger Price</th>\n",
       "      <th>Average Cheeseburger Price</th>\n",
       "      <th>Average Specialty Item Price</th>\n",
       "      <th>Average Fries Price</th>\n",
       "      <th>Average Combo Price</th>\n",
       "      <th>County Count</th>\n",
       "    </tr>\n",
       "  </thead>\n",
       "  <tbody>\n",
       "    <tr>\n",
       "      <th>0</th>\n",
       "      <td>Applebee</td>\n",
       "      <td>20.593280</td>\n",
       "      <td>15.296237</td>\n",
       "      <td>20.962820</td>\n",
       "      <td>4.273656</td>\n",
       "      <td>140.387097</td>\n",
       "      <td>13.808602</td>\n",
       "      <td>14.706720</td>\n",
       "      <td>NaN</td>\n",
       "      <td>14.875920</td>\n",
       "      <td>NaN</td>\n",
       "      <td>186</td>\n",
       "    </tr>\n",
       "    <tr>\n",
       "      <th>1</th>\n",
       "      <td>Buffalo Wild Wings</td>\n",
       "      <td>7.729876</td>\n",
       "      <td>6.330000</td>\n",
       "      <td>8.967980</td>\n",
       "      <td>4.193636</td>\n",
       "      <td>109.500000</td>\n",
       "      <td>NaN</td>\n",
       "      <td>13.498182</td>\n",
       "      <td>NaN</td>\n",
       "      <td>4.867315</td>\n",
       "      <td>NaN</td>\n",
       "      <td>110</td>\n",
       "    </tr>\n",
       "    <tr>\n",
       "      <th>2</th>\n",
       "      <td>Denny</td>\n",
       "      <td>10.023410</td>\n",
       "      <td>8.517061</td>\n",
       "      <td>6.086510</td>\n",
       "      <td>4.223030</td>\n",
       "      <td>147.981818</td>\n",
       "      <td>NaN</td>\n",
       "      <td>13.658405</td>\n",
       "      <td>NaN</td>\n",
       "      <td>5.215333</td>\n",
       "      <td>NaN</td>\n",
       "      <td>165</td>\n",
       "    </tr>\n",
       "    <tr>\n",
       "      <th>3</th>\n",
       "      <td>Outback Steakhouse</td>\n",
       "      <td>18.067444</td>\n",
       "      <td>14.071364</td>\n",
       "      <td>12.957996</td>\n",
       "      <td>4.385714</td>\n",
       "      <td>109.324675</td>\n",
       "      <td>14.948533</td>\n",
       "      <td>10.470519</td>\n",
       "      <td>NaN</td>\n",
       "      <td>5.064026</td>\n",
       "      <td>NaN</td>\n",
       "      <td>77</td>\n",
       "    </tr>\n",
       "    <tr>\n",
       "      <th>4</th>\n",
       "      <td>Panera Bread</td>\n",
       "      <td>8.875863</td>\n",
       "      <td>7.863333</td>\n",
       "      <td>7.724865</td>\n",
       "      <td>4.653333</td>\n",
       "      <td>184.666667</td>\n",
       "      <td>NaN</td>\n",
       "      <td>NaN</td>\n",
       "      <td>NaN</td>\n",
       "      <td>NaN</td>\n",
       "      <td>NaN</td>\n",
       "      <td>15</td>\n",
       "    </tr>\n",
       "    <tr>\n",
       "      <th>5</th>\n",
       "      <td>Red Robin</td>\n",
       "      <td>12.050759</td>\n",
       "      <td>11.203814</td>\n",
       "      <td>7.822556</td>\n",
       "      <td>4.467797</td>\n",
       "      <td>130.644068</td>\n",
       "      <td>NaN</td>\n",
       "      <td>8.345254</td>\n",
       "      <td>NaN</td>\n",
       "      <td>4.543158</td>\n",
       "      <td>NaN</td>\n",
       "      <td>59</td>\n",
       "    </tr>\n",
       "    <tr>\n",
       "      <th>6</th>\n",
       "      <td>TGI Fridays</td>\n",
       "      <td>25.089391</td>\n",
       "      <td>16.582069</td>\n",
       "      <td>26.598320</td>\n",
       "      <td>4.179310</td>\n",
       "      <td>179.068966</td>\n",
       "      <td>NaN</td>\n",
       "      <td>13.705862</td>\n",
       "      <td>NaN</td>\n",
       "      <td>3.167931</td>\n",
       "      <td>NaN</td>\n",
       "      <td>29</td>\n",
       "    </tr>\n",
       "  </tbody>\n",
       "</table>\n",
       "</div>"
      ],
      "text/plain": [
       "      Restaurant Name  Average Menu Item Price  Median Menu Item Price  \\\n",
       "0            Applebee                20.593280               15.296237   \n",
       "1  Buffalo Wild Wings                 7.729876                6.330000   \n",
       "2               Denny                10.023410                8.517061   \n",
       "3  Outback Steakhouse                18.067444               14.071364   \n",
       "4        Panera Bread                 8.875863                7.863333   \n",
       "5           Red Robin                12.050759               11.203814   \n",
       "6         TGI Fridays                25.089391               16.582069   \n",
       "\n",
       "   Std Dev Menu Item Price  Average Restaurant Rating  \\\n",
       "0                20.962820                   4.273656   \n",
       "1                 8.967980                   4.193636   \n",
       "2                 6.086510                   4.223030   \n",
       "3                12.957996                   4.385714   \n",
       "4                 7.724865                   4.653333   \n",
       "5                 7.822556                   4.467797   \n",
       "6                26.598320                   4.179310   \n",
       "\n",
       "   Average Menu Item Count  Average Hamburger Price  \\\n",
       "0               140.387097                13.808602   \n",
       "1               109.500000                      NaN   \n",
       "2               147.981818                      NaN   \n",
       "3               109.324675                14.948533   \n",
       "4               184.666667                      NaN   \n",
       "5               130.644068                      NaN   \n",
       "6               179.068966                      NaN   \n",
       "\n",
       "   Average Cheeseburger Price  Average Specialty Item Price  \\\n",
       "0                   14.706720                           NaN   \n",
       "1                   13.498182                           NaN   \n",
       "2                   13.658405                           NaN   \n",
       "3                   10.470519                           NaN   \n",
       "4                         NaN                           NaN   \n",
       "5                    8.345254                           NaN   \n",
       "6                   13.705862                           NaN   \n",
       "\n",
       "   Average Fries Price  Average Combo Price  County Count  \n",
       "0            14.875920                  NaN           186  \n",
       "1             4.867315                  NaN           110  \n",
       "2             5.215333                  NaN           165  \n",
       "3             5.064026                  NaN            77  \n",
       "4                  NaN                  NaN            15  \n",
       "5             4.543158                  NaN            59  \n",
       "6             3.167931                  NaN            29  "
      ]
     },
     "execution_count": 121,
     "metadata": {},
     "output_type": "execute_result"
    }
   ],
   "source": [
    "agg_dict = {\n",
    "    'menu_item_price mean_non_zero': mean_non_zero,\n",
    "    'menu_item_price median_non_zero': mean_non_zero,\n",
    "    'menu_item_price std_non_zero': mean_non_zero,\n",
    "    'restaurant_rating mean': mean_non_zero,\n",
    "    'menu_item count': mean_non_zero,\n",
    "    'hamburger': mean_non_zero,\n",
    "    'cheeseburger': mean_non_zero,\n",
    "    'specialty_item': mean_non_zero,\n",
    "    'fries': mean_non_zero,\n",
    "    'combo': mean_non_zero,\n",
    "    'county_name': 'count'\n",
    "}\n",
    "\n",
    "# Perform the groupby and aggregation\n",
    "result = ca_ff.groupby(\"restaurant_name\").agg(agg_dict)\n",
    "\n",
    "# Reset index to turn 'restaurant_name' from index to a column\n",
    "result = result.reset_index()\n",
    "\n",
    "# Rename the columns to more readable names\n",
    "result.columns = [\n",
    "    'Restaurant Name', \n",
    "    'Average Menu Item Price', \n",
    "    'Median Menu Item Price', \n",
    "    'Std Dev Menu Item Price', \n",
    "    'Average Restaurant Rating', \n",
    "    'Average Menu Item Count', \n",
    "    'Average Hamburger Price', \n",
    "    'Average Cheeseburger Price', \n",
    "    'Average Specialty Item Price', \n",
    "    'Average Fries Price', \n",
    "    'Average Combo Price', \n",
    "    'County Count'\n",
    "]\n",
    "\n",
    "result"
   ]
  }
 ],
 "metadata": {
  "kernelspec": {
   "display_name": "Python 3 (ipykernel)",
   "language": "python",
   "name": "python3"
  },
  "language_info": {
   "codemirror_mode": {
    "name": "ipython",
    "version": 3
   },
   "file_extension": ".py",
   "mimetype": "text/x-python",
   "name": "python",
   "nbconvert_exporter": "python",
   "pygments_lexer": "ipython3",
   "version": "3.9.13"
  }
 },
 "nbformat": 4,
 "nbformat_minor": 5
}
