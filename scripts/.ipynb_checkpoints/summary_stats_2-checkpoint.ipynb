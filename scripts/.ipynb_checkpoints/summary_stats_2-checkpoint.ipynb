{
 "cells": [
  {
   "cell_type": "code",
   "execution_count": 1,
   "id": "feec972e",
   "metadata": {},
   "outputs": [],
   "source": [
    "import json\n",
    "import pandas as pd\n",
    "import numpy as np\n",
    "import re\n",
    "from datetime import datetime"
   ]
  },
  {
   "cell_type": "code",
   "execution_count": 67,
   "id": "4f200117",
   "metadata": {},
   "outputs": [],
   "source": [
    "file_1 = \"/Users/alyssanguyen/Desktop/IRLE_scraping/csv_files/raw_prices_ubereats_nonca_ff_03292024.csv\"\n",
    "file_2 = \"/Users/alyssanguyen/Desktop/IRLE_scraping/csv_files/final_nonca_rnd2.csv\"\n",
    "pre = pd.read_csv(file_1)\n",
    "post = pd.read_csv(file_2, low_memory = False)\n",
    "\n",
    "file_path_2 = \"/Users/alyssanguyen/Desktop/IRLE_scraping/csv_files/uszips.csv\"\n",
    "ca_zip_count = pd.read_csv(file_path_2)\n",
    "ca_zip_count = ca_zip_count[['zip', 'county_name']]"
   ]
  },
  {
   "cell_type": "code",
   "execution_count": 68,
   "id": "dba8b297",
   "metadata": {},
   "outputs": [
    {
     "name": "stdout",
     "output_type": "stream",
     "text": [
      "Number of rows with 'mi' in restaurant rating: 6538\n",
      "Number of rows with 'mi' in restaurant rating: 0\n"
     ]
    }
   ],
   "source": [
    "\n",
    "# Define the pattern and extraction function\n",
    "pattern = r\",\\s*([a-zA-Z]{2})\\s*,?\\s*(\\d{5}(?:-\\d{4})?)\"\n",
    "\n",
    "def extract_state_zip(address):\n",
    "    match = re.search(pattern, address)\n",
    "    if match:\n",
    "        state, zip_code = match.groups()\n",
    "        return state, zip_code\n",
    "    else:\n",
    "        return None, None\n",
    "\n",
    "for i, df in enumerate([pre, post]):\n",
    "    df = df.drop(columns=['Unnamed: 0', 'inputted_location', 'restaurant_distance'])\n",
    "    df = df.dropna(subset=['restaurant_location'])\n",
    "\n",
    "    # Ensure the column is of string type using .loc\n",
    "    df.loc[:, 'restaurant_rating'] = df['restaurant_rating'].astype(str)\n",
    "\n",
    "    # Count rows containing 'mi'\n",
    "    rows_with_mi = df['restaurant_rating'].str.contains('mi').sum()\n",
    "    print(\"Number of rows with 'mi' in restaurant rating:\", rows_with_mi)\n",
    "\n",
    "    # Replace invalid ratings ending with 'mi' with '0' using .loc\n",
    "    df.loc[:, 'restaurant_rating'] = df['restaurant_rating'].str.replace(r'.*mi$', '0', regex=True)\n",
    "    df = df.dropna()\n",
    "    df = df[df['menu_item_price'] != 0]\n",
    "\n",
    "    # Converting data types\n",
    "    df['restaurant_name'] = df['restaurant_name'].astype('string')\n",
    "    df['menu_item'] = df['menu_item'].astype('string')\n",
    "    df['menu_item'] = df['menu_item'].str.replace(r'\\s+', ' ', regex=True)\n",
    "    df['restaurant_location'] = df['restaurant_location'].astype('string')\n",
    "    df['restaurant_rating'] = df['restaurant_rating'].str.strip().astype(float)\n",
    "\n",
    "    # Cleaning up string columns\n",
    "    df['menu_item'] = df['menu_item'].str.lower()\n",
    "    df['restaurant_location'] = df['restaurant_location'].str.lower()\n",
    "    df['restaurant_name'] = df['restaurant_name'].str.replace('_', ' ')\n",
    "\n",
    "    # Remove special characters\n",
    "    df['menu_item'] = df['menu_item'].apply(lambda x: ''.join(ch for ch in x if ch.isalnum() or ch.isspace()))\n",
    "\n",
    "#     # Apply the function to extract state and zip code\n",
    "#     df[['state', 'zip']] = df['restaurant_location'].apply(lambda x: pd.Series(extract_state_zip(x)))\n",
    "#     df['zip'] = df['zip'].str.split('-').str[0].astype(int)\n",
    "\n",
    "#     # Merge with ca_zip_count to get county\n",
    "#     df = df.merge(ca_zip_count, on='zip')\n",
    "\n",
    "    # Assign the modified DataFrame back to the original variable\n",
    "    if i == 0:\n",
    "        pre = df\n",
    "    else:\n",
    "        post = df"
   ]
  },
  {
   "cell_type": "code",
   "execution_count": 69,
   "id": "04864c3e",
   "metadata": {},
   "outputs": [
    {
     "data": {
      "text/html": [
       "<div>\n",
       "<style scoped>\n",
       "    .dataframe tbody tr th:only-of-type {\n",
       "        vertical-align: middle;\n",
       "    }\n",
       "\n",
       "    .dataframe tbody tr th {\n",
       "        vertical-align: top;\n",
       "    }\n",
       "\n",
       "    .dataframe thead th {\n",
       "        text-align: right;\n",
       "    }\n",
       "</style>\n",
       "<table border=\"1\" class=\"dataframe\">\n",
       "  <thead>\n",
       "    <tr style=\"text-align: right;\">\n",
       "      <th></th>\n",
       "      <th>restaurant_name</th>\n",
       "      <th>menu_item</th>\n",
       "      <th>menu_item_price</th>\n",
       "      <th>restaurant_location</th>\n",
       "      <th>restaurant_rating</th>\n",
       "      <th>number_of_ratings</th>\n",
       "    </tr>\n",
       "  </thead>\n",
       "  <tbody>\n",
       "    <tr>\n",
       "      <th>0</th>\n",
       "      <td>McDonald</td>\n",
       "      <td>medium french fries</td>\n",
       "      <td>3.49</td>\n",
       "      <td>18515 media drive, robertsdale, al, 36567, us</td>\n",
       "      <td>4.7</td>\n",
       "      <td>18</td>\n",
       "    </tr>\n",
       "    <tr>\n",
       "      <th>1</th>\n",
       "      <td>McDonald</td>\n",
       "      <td>6 pc chicken mcnuggets happy meal</td>\n",
       "      <td>7.09</td>\n",
       "      <td>18515 media drive, robertsdale, al, 36567, us</td>\n",
       "      <td>4.7</td>\n",
       "      <td>18</td>\n",
       "    </tr>\n",
       "    <tr>\n",
       "      <th>2</th>\n",
       "      <td>McDonald</td>\n",
       "      <td>10 pc chicken mcnuggets meal</td>\n",
       "      <td>11.19</td>\n",
       "      <td>18515 media drive, robertsdale, al, 36567, us</td>\n",
       "      <td>4.7</td>\n",
       "      <td>18</td>\n",
       "    </tr>\n",
       "    <tr>\n",
       "      <th>3</th>\n",
       "      <td>McDonald</td>\n",
       "      <td>10 pc chicken mcnuggets</td>\n",
       "      <td>6.89</td>\n",
       "      <td>18515 media drive, robertsdale, al, 36567, us</td>\n",
       "      <td>4.7</td>\n",
       "      <td>18</td>\n",
       "    </tr>\n",
       "    <tr>\n",
       "      <th>4</th>\n",
       "      <td>McDonald</td>\n",
       "      <td>big mac</td>\n",
       "      <td>6.49</td>\n",
       "      <td>18515 media drive, robertsdale, al, 36567, us</td>\n",
       "      <td>4.7</td>\n",
       "      <td>18</td>\n",
       "    </tr>\n",
       "  </tbody>\n",
       "</table>\n",
       "</div>"
      ],
      "text/plain": [
       "  restaurant_name                          menu_item  menu_item_price  \\\n",
       "0        McDonald                medium french fries             3.49   \n",
       "1        McDonald  6 pc chicken mcnuggets happy meal             7.09   \n",
       "2        McDonald       10 pc chicken mcnuggets meal            11.19   \n",
       "3        McDonald            10 pc chicken mcnuggets             6.89   \n",
       "4        McDonald                            big mac             6.49   \n",
       "\n",
       "                             restaurant_location  restaurant_rating  \\\n",
       "0  18515 media drive, robertsdale, al, 36567, us                4.7   \n",
       "1  18515 media drive, robertsdale, al, 36567, us                4.7   \n",
       "2  18515 media drive, robertsdale, al, 36567, us                4.7   \n",
       "3  18515 media drive, robertsdale, al, 36567, us                4.7   \n",
       "4  18515 media drive, robertsdale, al, 36567, us                4.7   \n",
       "\n",
       "  number_of_ratings  \n",
       "0                18  \n",
       "1                18  \n",
       "2                18  \n",
       "3                18  \n",
       "4                18  "
      ]
     },
     "execution_count": 69,
     "metadata": {},
     "output_type": "execute_result"
    }
   ],
   "source": [
    "pre.head()"
   ]
  },
  {
   "cell_type": "code",
   "execution_count": null,
   "id": "e39bf459",
   "metadata": {},
   "outputs": [],
   "source": [
    "df[['state', 'zip']] = df['restaurant_location'].apply(lambda x: pd.Series(extract_state_zip(x)))\n",
    "df['zip'] = df['zip'].str.split('-').str[0].astype(int)\n",
    "\n",
    "# Merge with ca_zip_count to get county\n",
    "df = df.merge(ca_zip_count, on='zip')"
   ]
  },
  {
   "cell_type": "code",
   "execution_count": 49,
   "id": "d3c3b31a",
   "metadata": {},
   "outputs": [],
   "source": [
    "# counties = [\n",
    "#     \"baldwin\", \"jefferson\", \"madison\", \"mobile\", \"chatham\", \"cobb\", \"dekalb\", \"fulton\", \"gwinnett\",\n",
    "#     \"ada\", \"hamilton\", \"lake\", \"marion\", \"polk\", \"johnson\", \"sedgwick\", \"fayette\", \"east baton rouge\", \n",
    "#     \"lafayette\", \"orleans\", \"st. tammany\", \"harrison\", \"hillsborough\", \"rockingham\", \"buncombe\", \n",
    "#     \"cumberland\", \"durham\", \"forsyth\", \"guilford\", \"mecklenburg\", \"new hanover\", \"wake\", \"cleveland\", \n",
    "#     \"oklahoma\", \"tulsa\", \"allegheny\", \"berks\", \"bucks\", \"chester\", \"delaware\", \"lancaster\", \"lehigh\", \n",
    "#     \"montgomery\", \"philadelphia\", \"westmoreland\", \"york\", \"beaufort\", \"charleston\", \"greenville\", \"horry\", \n",
    "#     \"lexington\", \"richland\", \"spartanburg\", \"davidson\", \"knox\", \"rutherford\", \"sevier\", \"shelby\", \n",
    "#     \"williamson\", \"bell\", \"bexar\", \"brazoria\", \"brazos\", \"cameron\", \"collin\", \"dallas\", \"denton\", \n",
    "#     \"el paso\", \"fort bend\", \"galveston\", \"harris\", \"hidalgo\", \"lubbock\", \"mclennan\", \"nueces\", \"tarrant\", \n",
    "#     \"travis\", \"davis\", \"salt lake\", \"utah\", \"brown\", \"dane\", \"milwaukee\", \"waukesha\"\n",
    "# ]\n",
    "\n",
    "counties = [\n",
    "    \"alameda\",\n",
    "    \"contra costa\",\n",
    "    \"fresno\",\n",
    "    \"kern\",\n",
    "    \"los angeles\",\n",
    "    \"marin\",\n",
    "    \"monterey\",\n",
    "    \"orange\",\n",
    "    \"placer\",\n",
    "    \"riverside\",\n",
    "    \"sacramento\",\n",
    "    \"san bernardino\",\n",
    "    \"san diego\",\n",
    "    \"san francisco\",\n",
    "    \"san joaquin\",\n",
    "    \"san luis obispo\",\n",
    "    \"san mateo\",\n",
    "    \"santa barbara\",\n",
    "    \"santa clara\",\n",
    "    \"santa cruz\",\n",
    "    \"solano\",\n",
    "    \"sonoma\",\n",
    "    \"stanislaus\",\n",
    "    \"tulare\",\n",
    "    \"ventura\"\n",
    "]\n",
    "\n",
    "\n",
    "# Preprocess county_name column\n",
    "pre_filtered = pre.copy()\n",
    "post_filtered = post.copy()\n",
    "\n",
    "pre_filtered['county_name'] = pre_filtered['county_name'].str.strip().str.lower().str.replace(r'\\s+', ' ', regex=True)\n",
    "post_filtered['county_name'] = post_filtered['county_name'].str.strip().str.lower().str.replace(r'\\s+', ' ', regex=True)\n",
    "\n",
    "\n",
    "# Filter the DataFrame\n",
    "pre_filtered = pre_filtered[pre_filtered['county_name'].isin(counties)]\n",
    "post_filtered = post_filtered[post_filtered['county_name'].isin(counties)]"
   ]
  },
  {
   "cell_type": "code",
   "execution_count": 50,
   "id": "b69b9c6c",
   "metadata": {},
   "outputs": [],
   "source": [
    "common_addresses = pd.merge(pre[['restaurant_location']], post[['restaurant_location']], on='restaurant_location', how='inner')\n",
    "\n",
    "# Filter both DataFrames to include only the matched addresses\n",
    "pre_filtered = pre[pre['restaurant_location'].isin(common_addresses['restaurant_location'])]\n",
    "post_filtered = post[post['restaurant_location'].isin(common_addresses['restaurant_location'])]"
   ]
  },
  {
   "cell_type": "code",
   "execution_count": 53,
   "id": "ef8c40bf",
   "metadata": {},
   "outputs": [
    {
     "data": {
      "text/plain": [
       "8.766828160191361"
      ]
     },
     "execution_count": 53,
     "metadata": {},
     "output_type": "execute_result"
    }
   ],
   "source": [
    "post_filtered['menu_item_price'].mean()"
   ]
  },
  {
   "cell_type": "code",
   "execution_count": 54,
   "id": "d51aa0f1",
   "metadata": {},
   "outputs": [],
   "source": [
    "pre_grouped = pre_filtered.groupby(['restaurant_name', 'restaurant_location'])['menu_item'].agg('count').reset_index()\n",
    "post_grouped = post_filtered.groupby(['restaurant_name', 'restaurant_location'])['menu_item'].agg('count').reset_index()"
   ]
  },
  {
   "cell_type": "code",
   "execution_count": 56,
   "id": "6d233889",
   "metadata": {},
   "outputs": [
    {
     "data": {
      "text/plain": [
       "138.52177777777777"
      ]
     },
     "execution_count": 56,
     "metadata": {},
     "output_type": "execute_result"
    }
   ],
   "source": [
    "post_grouped['menu_item'].mean()"
   ]
  },
  {
   "cell_type": "code",
   "execution_count": 57,
   "id": "92723bd9",
   "metadata": {},
   "outputs": [],
   "source": [
    "pre_filtered = pre_filtered[pre_filtered['menu_item_price'] < 6]\n",
    "post_filtered = post_filtered[post_filtered['menu_item_price'] < 6]"
   ]
  },
  {
   "cell_type": "code",
   "execution_count": 58,
   "id": "7e7a7f2f",
   "metadata": {},
   "outputs": [],
   "source": [
    "pre_grouped = pre_filtered.groupby(['restaurant_name', 'restaurant_location'])['menu_item'].agg('count').reset_index()\n",
    "post_grouped = post_filtered.groupby(['restaurant_name', 'restaurant_location'])['menu_item'].agg('count').reset_index()"
   ]
  },
  {
   "cell_type": "code",
   "execution_count": 60,
   "id": "5c5c52b1",
   "metadata": {},
   "outputs": [
    {
     "data": {
      "text/plain": [
       "57.913777777777774"
      ]
     },
     "execution_count": 60,
     "metadata": {},
     "output_type": "execute_result"
    }
   ],
   "source": [
    "post_grouped['menu_item'].mean()"
   ]
  },
  {
   "cell_type": "code",
   "execution_count": null,
   "id": "2ca85142",
   "metadata": {},
   "outputs": [],
   "source": []
  }
 ],
 "metadata": {
  "kernelspec": {
   "display_name": "Python 3 (ipykernel)",
   "language": "python",
   "name": "python3"
  },
  "language_info": {
   "codemirror_mode": {
    "name": "ipython",
    "version": 3
   },
   "file_extension": ".py",
   "mimetype": "text/x-python",
   "name": "python",
   "nbconvert_exporter": "python",
   "pygments_lexer": "ipython3",
   "version": "3.9.13"
  }
 },
 "nbformat": 4,
 "nbformat_minor": 5
}
