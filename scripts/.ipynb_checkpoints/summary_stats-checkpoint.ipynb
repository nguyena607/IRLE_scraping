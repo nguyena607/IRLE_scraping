{
 "cells": [
  {
   "cell_type": "code",
   "execution_count": 27,
   "id": "a8507a69",
   "metadata": {},
   "outputs": [],
   "source": [
    "import json\n",
    "import pandas as pd\n",
    "import numpy as np\n",
    "import re\n",
    "from datetime import datetime\n",
    "import matplotlib.pyplot as plt\n",
    "import seaborn as sns"
   ]
  },
  {
   "cell_type": "code",
   "execution_count": 169,
   "id": "d362accd",
   "metadata": {},
   "outputs": [],
   "source": [
    "file_1 = \"/Users/alyssanguyen/Desktop/IRLE_scraping/csv_files/processed_prices_ubereats_ca_fullserv_03252024.csv\"\n",
    "file_2 = \"/Users/alyssanguyen/Desktop/IRLE_scraping/csv_files/final_processed_prices_ubereats_ca_fullserv_05142024.csv\"\n",
    "pre = pd.read_csv(file_1)\n",
    "post = pd.read_csv(file_2)\n",
    "\n",
    "file_path_2 = \"/Users/alyssanguyen/Desktop/IRLE_scraping/csv_files/uszips.csv\"\n",
    "ca_zip_count = pd.read_csv(file_path_2)"
   ]
  },
  {
   "cell_type": "code",
   "execution_count": 170,
   "id": "d5a7c541",
   "metadata": {},
   "outputs": [],
   "source": [
    "pre = pre[pre['state'] == 'ca']\n",
    "post = post[post['state'] == 'ca']"
   ]
  },
  {
   "cell_type": "code",
   "execution_count": 171,
   "id": "84d4729f",
   "metadata": {},
   "outputs": [],
   "source": [
    "common_addresses = pd.merge(pre[['restaurant_location']], post[['restaurant_location']], on='restaurant_location', how='inner')\n",
    "\n",
    "# Filter both DataFrames to include only the matched addresses\n",
    "pre_filtered = pre[pre['restaurant_location'].isin(common_addresses['restaurant_location'])]\n",
    "post_filtered = post[post['restaurant_location'].isin(common_addresses['restaurant_location'])]\n"
   ]
  },
  {
   "cell_type": "code",
   "execution_count": 172,
   "id": "14c8057d",
   "metadata": {
    "scrolled": true
   },
   "outputs": [],
   "source": [
    "# counties = [\n",
    "#     \"baldwin\", \"jefferson\", \"madison\", \"mobile\", \"chatham\", \"cobb\", \"dekalb\", \"fulton\", \"gwinnett\",\n",
    "#     \"ada\", \"hamilton\", \"lake\", \"marion\", \"polk\", \"johnson\", \"sedgwick\", \"fayette\", \"east baton rouge\", \n",
    "#     \"lafayette\", \"orleans\", \"st. tammany\", \"harrison\", \"hillsborough\", \"rockingham\", \"buncombe\", \n",
    "#     \"cumberland\", \"durham\", \"forsyth\", \"guilford\", \"mecklenburg\", \"new hanover\", \"wake\", \"cleveland\", \n",
    "#     \"oklahoma\", \"tulsa\", \"allegheny\", \"berks\", \"bucks\", \"chester\", \"delaware\", \"lancaster\", \"lehigh\", \n",
    "#     \"montgomery\", \"philadelphia\", \"westmoreland\", \"york\", \"beaufort\", \"charleston\", \"greenville\", \"horry\", \n",
    "#     \"lexington\", \"richland\", \"spartanburg\", \"davidson\", \"knox\", \"rutherford\", \"sevier\", \"shelby\", \n",
    "#     \"williamson\", \"bell\", \"bexar\", \"brazoria\", \"brazos\", \"cameron\", \"collin\", \"dallas\", \"denton\", \n",
    "#     \"el paso\", \"fort bend\", \"galveston\", \"harris\", \"hidalgo\", \"lubbock\", \"mclennan\", \"nueces\", \"tarrant\", \n",
    "#     \"travis\", \"davis\", \"salt lake\", \"utah\", \"brown\", \"dane\", \"milwaukee\", \"waukesha\"\n",
    "# ]\n",
    "\n",
    "counties = [\n",
    "    \"alameda\",\n",
    "    \"contra costa\",\n",
    "    \"fresno\",\n",
    "    \"kern\",\n",
    "    \"los angeles\",\n",
    "    \"marin\",\n",
    "    \"monterey\",\n",
    "    \"orange\",\n",
    "    \"placer\",\n",
    "    \"riverside\",\n",
    "    \"sacramento\",\n",
    "    \"san bernardino\",\n",
    "    \"san diego\",\n",
    "    \"san francisco\",\n",
    "    \"san joaquin\",\n",
    "    \"san luis obispo\",\n",
    "    \"san mateo\",\n",
    "    \"santa barbara\",\n",
    "    \"santa clara\",\n",
    "    \"santa cruz\",\n",
    "    \"solano\",\n",
    "    \"sonoma\",\n",
    "    \"stanislaus\",\n",
    "    \"tulare\",\n",
    "    \"ventura\"\n",
    "]\n",
    "\n",
    "\n",
    "# Preprocess county_name column\n",
    "pre_filtered = pre_filtered.copy()\n",
    "post_filtered = post_filtered.copy()\n",
    "\n",
    "pre_filtered['county_name'] = pre_filtered['county_name'].str.strip().str.lower().str.replace(r'\\s+', ' ', regex=True)\n",
    "post_filtered['county_name'] = post_filtered['county_name'].str.strip().str.lower().str.replace(r'\\s+', ' ', regex=True)\n",
    "\n",
    "\n",
    "# Filter the DataFrame\n",
    "pre_filtered = pre_filtered[pre_filtered['county_name'].isin(counties)]\n",
    "post_filtered = post_filtered[post_filtered['county_name'].isin(counties)]"
   ]
  },
  {
   "cell_type": "code",
   "execution_count": 173,
   "id": "e3d27c92",
   "metadata": {},
   "outputs": [
    {
     "data": {
      "text/plain": [
       "25"
      ]
     },
     "execution_count": 173,
     "metadata": {},
     "output_type": "execute_result"
    }
   ],
   "source": [
    "len(counties)"
   ]
  },
  {
   "cell_type": "code",
   "execution_count": 174,
   "id": "e66ba0f1",
   "metadata": {},
   "outputs": [],
   "source": [
    "common_addresses = pd.merge(pre_filtered[['restaurant_location']], post_filtered[['restaurant_location']], on='restaurant_location', how='inner')\n",
    "\n",
    "# Filter both DataFrames to include only the matched addresses\n",
    "pre_filtered = pre_filtered[pre_filtered['restaurant_location'].isin(common_addresses['restaurant_location'])]\n",
    "post_filtered = post_filtered[post_filtered['restaurant_location'].isin(common_addresses['restaurant_location'])]\n",
    "\n"
   ]
  },
  {
   "cell_type": "code",
   "execution_count": 175,
   "id": "f6de93c0",
   "metadata": {},
   "outputs": [],
   "source": [
    "def mean_non_zero(x):\n",
    "    return np.mean(x[x != 0]) if np.any(x != 0) else 0\n",
    "\n",
    "def median_non_zero(x):\n",
    "    return np.median(x[x != 0]) if np.any(x != 0) else 0\n",
    "\n",
    "def std_non_zero(x):\n",
    "    return np.std(x[x != 0]) if np.any(x != 0) else 0"
   ]
  },
  {
   "cell_type": "code",
   "execution_count": 176,
   "id": "f3152028",
   "metadata": {},
   "outputs": [],
   "source": [
    "pre_filtered.drop(pre_filtered[pre_filtered['restaurant_name'] == 'Panera Bread'].index, inplace=True)\n",
    "post_filtered.drop(post_filtered[post_filtered['restaurant_name'] == 'Panera Bread'].index, inplace=True)\n"
   ]
  },
  {
   "cell_type": "code",
   "execution_count": 179,
   "id": "e0336e3a",
   "metadata": {
    "scrolled": false
   },
   "outputs": [
    {
     "name": "stdout",
     "output_type": "stream",
     "text": [
      "Number of unique restaurant names: 6\n",
      "Number of unique counties: 25\n",
      "Number of unique restaurant locations: 364\n",
      "Number of unique restaurant states: 1\n",
      "Mean (non-zero) of Hamburger: 15.75981132075473\n",
      "Mean (non-zero) of Cheeseburger: 15.350413223140492\n",
      "Mean (non-zero) of Specialty: nan\n"
     ]
    }
   ],
   "source": [
    "num_unique_restaurants = len(pre_filtered['restaurant_name'].unique())\n",
    "num_unique_counties = len(pre_filtered['county_name'].unique())\n",
    "num_unique_locations = len(pre_filtered['restaurant_location'].unique())\n",
    "num_unique_states = len(pre_filtered['state'].unique())\n",
    "\n",
    "\n",
    "print(f\"Number of unique restaurant names: {num_unique_restaurants}\")\n",
    "print(f\"Number of unique counties: {num_unique_counties}\")\n",
    "print(f\"Number of unique restaurant locations: {num_unique_locations}\")\n",
    "print(f\"Number of unique restaurant states: {num_unique_states}\")\n",
    "\n",
    "\n",
    "\n",
    "hamburger_mean = mean_non_zero(post_filtered['hamburger'])\n",
    "cheeseburger_mean = mean_non_zero(post_filtered['cheeseburger'])\n",
    "specialty_mean = mean_non_zero(post_filtered['specialty_item'])\n",
    "\n",
    "print(f\"Mean (non-zero) of Hamburger: {hamburger_mean}\")\n",
    "print(f\"Mean (non-zero) of Cheeseburger: {cheeseburger_mean}\")\n",
    "print(f\"Mean (non-zero) of Specialty: {specialty_mean}\")"
   ]
  },
  {
   "cell_type": "code",
   "execution_count": 180,
   "id": "ed8da350",
   "metadata": {},
   "outputs": [],
   "source": [
    "pre_filtered = pre_filtered.copy()\n",
    "post_filtered = post_filtered.copy()\n",
    "\n",
    "\n",
    "pre_filtered['time_period'] = 'pre-policy'\n",
    "post_filtered['time_period'] = 'post-policy'\n",
    "\n",
    "combined = pd.concat([pre_filtered, post_filtered])\n"
   ]
  },
  {
   "cell_type": "code",
   "execution_count": 184,
   "id": "b48e7838",
   "metadata": {},
   "outputs": [
    {
     "data": {
      "image/png": "[encoded data removed]",
      "text/plain": [
       "<Figure size 1200x600 with 1 Axes>"
      ]
     },
     "metadata": {},
     "output_type": "display_data"
    }
   ],
   "source": [
    "plt.figure(figsize=(12, 6))\n",
    "sns.stripplot(x='cheeseburger', y='time_period', data=combined, palette='Set2')\n",
    "plt.xlabel('Price ($)')\n",
    "plt.ylabel('Time Period')\n",
    "plt.title('Distribution of Cheeseburger Prices (CA Full Service)')\n",
    "plt.tight_layout()  # Ensures labels are not cut off when saving\n",
    "plt.savefig('/Users/alyssanguyen/Desktop/IRLE_scraping/visualizations/cheeseburger_ca_fullserv.png')  # Save as PNG\n",
    "plt.show()"
   ]
  },
  {
   "cell_type": "code",
   "execution_count": 92,
   "id": "63567f93",
   "metadata": {},
   "outputs": [],
   "source": [
    "#Merging Hardees with Carls Jr \n",
    "\n",
    "pre_filtered['restaurant_name'] = pre_filtered['restaurant_name'].replace('Hardees', 'Carls Jr')\n",
    "post_filtered['restaurant_name'] = post_filtered['restaurant_name'].replace('Hardees', 'Carls Jr')\n"
   ]
  },
  {
   "cell_type": "code",
   "execution_count": 185,
   "id": "d402deff",
   "metadata": {
    "scrolled": true
   },
   "outputs": [
    {
     "data": {
      "text/plain": [
       "array(['Outback Steakhouse', 'Red Robin', 'Denny', 'Applebee',\n",
       "       'Buffalo Wild Wings', 'TGI Fridays'], dtype=object)"
      ]
     },
     "execution_count": 185,
     "metadata": {},
     "output_type": "execute_result"
    }
   ],
   "source": [
    "post_filtered['restaurant_name'].unique()"
   ]
  },
  {
   "cell_type": "code",
   "execution_count": 148,
   "id": "2f117e4c",
   "metadata": {},
   "outputs": [
    {
     "data": {
      "text/plain": [
       "Nation's Giant Hamburgers      22\n",
       "Burger Lounge                  22\n",
       "Super Duper Burgers            10\n",
       "Gott's Roadside                 5\n",
       "Roam Artisan Burgers            5\n",
       "Barney's Gourmet Hamburgers     5\n",
       "Super Burger                    3\n",
       "R Burgers                       3\n",
       "Burger Station                  2\n",
       "Name: restaurant_name, dtype: int64"
      ]
     },
     "execution_count": 148,
     "metadata": {},
     "output_type": "execute_result"
    }
   ],
   "source": [
    "pre_filtered['restaurant_name'].value_counts().head(9)"
   ]
  },
  {
   "cell_type": "markdown",
   "id": "ed6658d8",
   "metadata": {},
   "source": [
    "sanity check"
   ]
  },
  {
   "cell_type": "code",
   "execution_count": 186,
   "id": "21dcd7bd",
   "metadata": {
    "scrolled": false
   },
   "outputs": [
    {
     "name": "stdout",
     "output_type": "stream",
     "text": [
      "Summary Stats for: Outback Steakhouse\n",
      "Number of unique counties: 13\n",
      "Number of unique restaurant locations: 36\n",
      "Number of unique restaurant states: 1\n",
      "Pre-Policy Prices\n",
      "Mean (non-zero) of Hamburger: 15.90428571428572\n",
      "Mean (non-zero) of Cheeseburger: 9.559444444444448\n",
      "Mean (non-zero) of Specialty: nan\n",
      "Post-Policy Prices\n",
      "Mean (non-zero) of Hamburger: 14.898571428571433\n",
      "Mean (non-zero) of Cheeseburger: 9.776111111111113\n",
      "Mean (non-zero) of Specialty: nan\n",
      "Summary Stats for: Red Robin\n",
      "Number of unique counties: 15\n",
      "Number of unique restaurant locations: 47\n",
      "Number of unique restaurant states: 1\n",
      "Pre-Policy Prices\n",
      "Mean (non-zero) of Hamburger: nan\n",
      "Mean (non-zero) of Cheeseburger: 8.389999999999992\n",
      "Mean (non-zero) of Specialty: nan\n",
      "Post-Policy Prices\n",
      "Mean (non-zero) of Hamburger: nan\n",
      "Mean (non-zero) of Cheeseburger: 8.389999999999992\n",
      "Mean (non-zero) of Specialty: nan\n",
      "Summary Stats for: Denny\n",
      "Number of unique counties: 24\n",
      "Number of unique restaurant locations: 140\n",
      "Number of unique restaurant states: 1\n",
      "Pre-Policy Prices\n",
      "Mean (non-zero) of Hamburger: nan\n",
      "Mean (non-zero) of Cheeseburger: 16.88611510791367\n",
      "Mean (non-zero) of Specialty: nan\n",
      "Post-Policy Prices\n",
      "Mean (non-zero) of Hamburger: nan\n",
      "Mean (non-zero) of Cheeseburger: 17.557122302158266\n",
      "Mean (non-zero) of Specialty: nan\n",
      "Summary Stats for: Applebee\n",
      "Number of unique counties: 23\n",
      "Number of unique restaurant locations: 71\n",
      "Number of unique restaurant states: 1\n",
      "Pre-Policy Prices\n",
      "Mean (non-zero) of Hamburger: 15.794225352112674\n",
      "Mean (non-zero) of Cheeseburger: 17.23084507042255\n",
      "Mean (non-zero) of Specialty: nan\n",
      "Post-Policy Prices\n",
      "Mean (non-zero) of Hamburger: 16.1843661971831\n",
      "Mean (non-zero) of Cheeseburger: 17.48577464788732\n",
      "Mean (non-zero) of Specialty: nan\n",
      "Summary Stats for: Buffalo Wild Wings\n",
      "Number of unique counties: 21\n",
      "Number of unique restaurant locations: 69\n",
      "Number of unique restaurant states: 1\n",
      "Pre-Policy Prices\n",
      "Mean (non-zero) of Hamburger: nan\n",
      "Mean (non-zero) of Cheeseburger: 16.101594202898546\n",
      "Mean (non-zero) of Specialty: nan\n",
      "Post-Policy Prices\n",
      "Mean (non-zero) of Hamburger: nan\n",
      "Mean (non-zero) of Cheeseburger: 16.346521739130427\n",
      "Mean (non-zero) of Specialty: nan\n",
      "Summary Stats for: TGI Fridays\n",
      "Number of unique counties: 1\n",
      "Number of unique restaurant locations: 1\n",
      "Number of unique restaurant states: 1\n",
      "Pre-Policy Prices\n",
      "Mean (non-zero) of Hamburger: nan\n",
      "Mean (non-zero) of Cheeseburger: 16.09\n",
      "Mean (non-zero) of Specialty: nan\n",
      "Post-Policy Prices\n",
      "Mean (non-zero) of Hamburger: nan\n",
      "Mean (non-zero) of Cheeseburger: 16.09\n",
      "Mean (non-zero) of Specialty: nan\n"
     ]
    }
   ],
   "source": [
    "for restaurant in pre_filtered['restaurant_name'].unique():\n",
    "    pre_df = pre_filtered[pre_filtered['restaurant_name'] == restaurant]\n",
    "    post_df = post_filtered[post_filtered['restaurant_name'] == restaurant]\n",
    "    \n",
    "    \n",
    "    num_unique_counties = len(pre_df['county_name'].unique())\n",
    "    num_unique_locations = len(pre_df['restaurant_location'].unique())\n",
    "    num_unique_states = len(pre_df['state'].unique())\n",
    "\n",
    "    print(f\"Summary Stats for: {restaurant}\")\n",
    "    print(f\"Number of unique counties: {num_unique_counties}\")\n",
    "    print(f\"Number of unique restaurant locations: {num_unique_locations}\")\n",
    "    print(f\"Number of unique restaurant states: {num_unique_states}\")\n",
    "\n",
    "    hamburger_mean = mean_non_zero(pre_df['hamburger'])\n",
    "    cheeseburger_mean = mean_non_zero(pre_df['cheeseburger'])\n",
    "    specialty_mean = mean_non_zero(pre_df['specialty_item'])\n",
    "\n",
    "\n",
    "    print(\"Pre-Policy Prices\")\n",
    "    print(f\"Mean (non-zero) of Hamburger: {hamburger_mean}\")\n",
    "    print(f\"Mean (non-zero) of Cheeseburger: {cheeseburger_mean}\")\n",
    "    print(f\"Mean (non-zero) of Specialty: {specialty_mean}\")\n",
    "\n",
    "\n",
    "    hamburger_mean = mean_non_zero(post_df['hamburger'])\n",
    "    cheeseburger_mean = mean_non_zero(post_df['cheeseburger'])\n",
    "    specialty_mean = mean_non_zero(post_df['specialty_item'])\n",
    "\n",
    "\n",
    "    print(\"Post-Policy Prices\")\n",
    "    print(f\"Mean (non-zero) of Hamburger: {hamburger_mean}\")\n",
    "    print(f\"Mean (non-zero) of Cheeseburger: {cheeseburger_mean}\")\n",
    "    print(f\"Mean (non-zero) of Specialty: {specialty_mean}\")\n",
    "    \n",
    "    "
   ]
  },
  {
   "cell_type": "code",
   "execution_count": 50,
   "id": "abfd93ad",
   "metadata": {},
   "outputs": [
    {
     "data": {
      "text/plain": [
       "array(['Outback Steakhouse', 'Buffalo Wild Wings', 'Applebee', 'Denny',\n",
       "       'Red Robin', 'TGI Fridays'], dtype=object)"
      ]
     },
     "execution_count": 50,
     "metadata": {},
     "output_type": "execute_result"
    }
   ],
   "source": [
    "pre_filtered['restaurant_name'].unique()"
   ]
  },
  {
   "cell_type": "code",
   "execution_count": 121,
   "id": "359d4538",
   "metadata": {},
   "outputs": [
    {
     "data": {
      "text/html": [
       "<div>\n",
       "<style scoped>\n",
       "    .dataframe tbody tr th:only-of-type {\n",
       "        vertical-align: middle;\n",
       "    }\n",
       "\n",
       "    .dataframe tbody tr th {\n",
       "        vertical-align: top;\n",
       "    }\n",
       "\n",
       "    .dataframe thead th {\n",
       "        text-align: right;\n",
       "    }\n",
       "</style>\n",
       "<table border=\"1\" class=\"dataframe\">\n",
       "  <thead>\n",
       "    <tr style=\"text-align: right;\">\n",
       "      <th></th>\n",
       "      <th>Restaurant Name</th>\n",
       "      <th>Average Menu Item Price</th>\n",
       "      <th>Median Menu Item Price</th>\n",
       "      <th>Std Dev Menu Item Price</th>\n",
       "      <th>Average Restaurant Rating</th>\n",
       "      <th>Average Menu Item Count</th>\n",
       "      <th>Average Hamburger Price</th>\n",
       "      <th>Average Cheeseburger Price</th>\n",
       "      <th>Average Specialty Item Price</th>\n",
       "      <th>Average Fries Price</th>\n",
       "      <th>Average Combo Price</th>\n",
       "      <th>County Count</th>\n",
       "    </tr>\n",
       "  </thead>\n",
       "  <tbody>\n",
       "    <tr>\n",
       "      <th>0</th>\n",
       "      <td>Applebee</td>\n",
       "      <td>20.593280</td>\n",
       "      <td>15.296237</td>\n",
       "      <td>20.962820</td>\n",
       "      <td>4.273656</td>\n",
       "      <td>140.387097</td>\n",
       "      <td>13.808602</td>\n",
       "      <td>14.706720</td>\n",
       "      <td>NaN</td>\n",
       "      <td>14.875920</td>\n",
       "      <td>NaN</td>\n",
       "      <td>186</td>\n",
       "    </tr>\n",
       "    <tr>\n",
       "      <th>1</th>\n",
       "      <td>Buffalo Wild Wings</td>\n",
       "      <td>7.729876</td>\n",
       "      <td>6.330000</td>\n",
       "      <td>8.967980</td>\n",
       "      <td>4.193636</td>\n",
       "      <td>109.500000</td>\n",
       "      <td>NaN</td>\n",
       "      <td>13.498182</td>\n",
       "      <td>NaN</td>\n",
       "      <td>4.867315</td>\n",
       "      <td>NaN</td>\n",
       "      <td>110</td>\n",
       "    </tr>\n",
       "    <tr>\n",
       "      <th>2</th>\n",
       "      <td>Denny</td>\n",
       "      <td>10.023410</td>\n",
       "      <td>8.517061</td>\n",
       "      <td>6.086510</td>\n",
       "      <td>4.223030</td>\n",
       "      <td>147.981818</td>\n",
       "      <td>NaN</td>\n",
       "      <td>13.658405</td>\n",
       "      <td>NaN</td>\n",
       "      <td>5.215333</td>\n",
       "      <td>NaN</td>\n",
       "      <td>165</td>\n",
       "    </tr>\n",
       "    <tr>\n",
       "      <th>3</th>\n",
       "      <td>Outback Steakhouse</td>\n",
       "      <td>18.067444</td>\n",
       "      <td>14.071364</td>\n",
       "      <td>12.957996</td>\n",
       "      <td>4.385714</td>\n",
       "      <td>109.324675</td>\n",
       "      <td>14.948533</td>\n",
       "      <td>10.470519</td>\n",
       "      <td>NaN</td>\n",
       "      <td>5.064026</td>\n",
       "      <td>NaN</td>\n",
       "      <td>77</td>\n",
       "    </tr>\n",
       "    <tr>\n",
       "      <th>4</th>\n",
       "      <td>Panera Bread</td>\n",
       "      <td>8.875863</td>\n",
       "      <td>7.863333</td>\n",
       "      <td>7.724865</td>\n",
       "      <td>4.653333</td>\n",
       "      <td>184.666667</td>\n",
       "      <td>NaN</td>\n",
       "      <td>NaN</td>\n",
       "      <td>NaN</td>\n",
       "      <td>NaN</td>\n",
       "      <td>NaN</td>\n",
       "      <td>15</td>\n",
       "    </tr>\n",
       "    <tr>\n",
       "      <th>5</th>\n",
       "      <td>Red Robin</td>\n",
       "      <td>12.050759</td>\n",
       "      <td>11.203814</td>\n",
       "      <td>7.822556</td>\n",
       "      <td>4.467797</td>\n",
       "      <td>130.644068</td>\n",
       "      <td>NaN</td>\n",
       "      <td>8.345254</td>\n",
       "      <td>NaN</td>\n",
       "      <td>4.543158</td>\n",
       "      <td>NaN</td>\n",
       "      <td>59</td>\n",
       "    </tr>\n",
       "    <tr>\n",
       "      <th>6</th>\n",
       "      <td>TGI Fridays</td>\n",
       "      <td>25.089391</td>\n",
       "      <td>16.582069</td>\n",
       "      <td>26.598320</td>\n",
       "      <td>4.179310</td>\n",
       "      <td>179.068966</td>\n",
       "      <td>NaN</td>\n",
       "      <td>13.705862</td>\n",
       "      <td>NaN</td>\n",
       "      <td>3.167931</td>\n",
       "      <td>NaN</td>\n",
       "      <td>29</td>\n",
       "    </tr>\n",
       "  </tbody>\n",
       "</table>\n",
       "</div>"
      ],
      "text/plain": [
       "      Restaurant Name  Average Menu Item Price  Median Menu Item Price  \\\n",
       "0            Applebee                20.593280               15.296237   \n",
       "1  Buffalo Wild Wings                 7.729876                6.330000   \n",
       "2               Denny                10.023410                8.517061   \n",
       "3  Outback Steakhouse                18.067444               14.071364   \n",
       "4        Panera Bread                 8.875863                7.863333   \n",
       "5           Red Robin                12.050759               11.203814   \n",
       "6         TGI Fridays                25.089391               16.582069   \n",
       "\n",
       "   Std Dev Menu Item Price  Average Restaurant Rating  \\\n",
       "0                20.962820                   4.273656   \n",
       "1                 8.967980                   4.193636   \n",
       "2                 6.086510                   4.223030   \n",
       "3                12.957996                   4.385714   \n",
       "4                 7.724865                   4.653333   \n",
       "5                 7.822556                   4.467797   \n",
       "6                26.598320                   4.179310   \n",
       "\n",
       "   Average Menu Item Count  Average Hamburger Price  \\\n",
       "0               140.387097                13.808602   \n",
       "1               109.500000                      NaN   \n",
       "2               147.981818                      NaN   \n",
       "3               109.324675                14.948533   \n",
       "4               184.666667                      NaN   \n",
       "5               130.644068                      NaN   \n",
       "6               179.068966                      NaN   \n",
       "\n",
       "   Average Cheeseburger Price  Average Specialty Item Price  \\\n",
       "0                   14.706720                           NaN   \n",
       "1                   13.498182                           NaN   \n",
       "2                   13.658405                           NaN   \n",
       "3                   10.470519                           NaN   \n",
       "4                         NaN                           NaN   \n",
       "5                    8.345254                           NaN   \n",
       "6                   13.705862                           NaN   \n",
       "\n",
       "   Average Fries Price  Average Combo Price  County Count  \n",
       "0            14.875920                  NaN           186  \n",
       "1             4.867315                  NaN           110  \n",
       "2             5.215333                  NaN           165  \n",
       "3             5.064026                  NaN            77  \n",
       "4                  NaN                  NaN            15  \n",
       "5             4.543158                  NaN            59  \n",
       "6             3.167931                  NaN            29  "
      ]
     },
     "execution_count": 121,
     "metadata": {},
     "output_type": "execute_result"
    }
   ],
   "source": [
    "agg_dict = {\n",
    "    'menu_item_price mean_non_zero': mean_non_zero,\n",
    "    'menu_item_price median_non_zero': mean_non_zero,\n",
    "    'menu_item_price std_non_zero': mean_non_zero,\n",
    "    'restaurant_rating mean': mean_non_zero,\n",
    "    'menu_item count': mean_non_zero,\n",
    "    'hamburger': mean_non_zero,\n",
    "    'cheeseburger': mean_non_zero,\n",
    "    'specialty_item': mean_non_zero,\n",
    "    'fries': mean_non_zero,\n",
    "    'combo': mean_non_zero,\n",
    "    'county_name': 'count'\n",
    "}\n",
    "\n",
    "# Perform the groupby and aggregation\n",
    "result = ca_ff.groupby(\"restaurant_name\").agg(agg_dict)\n",
    "\n",
    "# Reset index to turn 'restaurant_name' from index to a column\n",
    "result = result.reset_index()\n",
    "\n",
    "# Rename the columns to more readable names\n",
    "result.columns = [\n",
    "    'Restaurant Name', \n",
    "    'Average Menu Item Price', \n",
    "    'Median Menu Item Price', \n",
    "    'Std Dev Menu Item Price', \n",
    "    'Average Restaurant Rating', \n",
    "    'Average Menu Item Count', \n",
    "    'Average Hamburger Price', \n",
    "    'Average Cheeseburger Price', \n",
    "    'Average Specialty Item Price', \n",
    "    'Average Fries Price', \n",
    "    'Average Combo Price', \n",
    "    'County Count'\n",
    "]\n",
    "\n",
    "result"
   ]
  }
 ],
 "metadata": {
  "kernelspec": {
   "display_name": "Python 3 (ipykernel)",
   "language": "python",
   "name": "python3"
  },
  "language_info": {
   "codemirror_mode": {
    "name": "ipython",
    "version": 3
   },
   "file_extension": ".py",
   "mimetype": "text/x-python",
   "name": "python",
   "nbconvert_exporter": "python",
   "pygments_lexer": "ipython3",
   "version": "3.9.13"
  }
 },
 "nbformat": 4,
 "nbformat_minor": 5
}
