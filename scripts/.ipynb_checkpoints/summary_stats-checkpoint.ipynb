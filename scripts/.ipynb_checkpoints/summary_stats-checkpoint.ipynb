{
 "cells": [
  {
   "cell_type": "code",
   "execution_count": 196,
   "id": "a8507a69",
   "metadata": {},
   "outputs": [],
   "source": [
    "import json\n",
    "import pandas as pd\n",
    "import numpy as np\n",
    "import re\n",
    "from datetime import datetime"
   ]
  },
  {
   "cell_type": "code",
   "execution_count": 355,
   "id": "d362accd",
   "metadata": {},
   "outputs": [],
   "source": [
    "file_1 = \"/Users/alyssanguyen/Desktop/IRLE_scraping/csv_files/processed_prices_ubereats_nonca_fullserv_03252024.csv\"\n",
    "file_2 = \"/Users/alyssanguyen/Desktop/IRLE_scraping/csv_files/final_processed_prices_ubereats_nonca_fullserv_05162024.csv\"\n",
    "pre = pd.read_csv(file_1)\n",
    "post = pd.read_csv(file_2)\n",
    "\n",
    "file_path_2 = \"/Users/alyssanguyen/Desktop/IRLE_scraping/csv_files/uszips.csv\"\n",
    "ca_zip_count = pd.read_csv(file_path_2)"
   ]
  },
  {
   "cell_type": "code",
   "execution_count": 356,
   "id": "ccc73819",
   "metadata": {},
   "outputs": [],
   "source": [
    "# combined = pd.concat([pre,post])\n",
    "# combined.to_csv(\"processed_prices_ubereats_ca_smallff_03262024.csv\")"
   ]
  },
  {
   "cell_type": "code",
   "execution_count": 357,
   "id": "84d4729f",
   "metadata": {},
   "outputs": [],
   "source": [
    "common_addresses = pd.merge(pre[['restaurant_location']], post[['restaurant_location']], on='restaurant_location', how='inner')\n",
    "\n",
    "# Filter both DataFrames to include only the matched addresses\n",
    "pre_filtered = pre[pre['restaurant_location'].isin(common_addresses['restaurant_location'])]\n",
    "post_filtered = post[post['restaurant_location'].isin(common_addresses['restaurant_location'])]\n"
   ]
  },
  {
   "cell_type": "code",
   "execution_count": 358,
   "id": "f6de93c0",
   "metadata": {},
   "outputs": [],
   "source": [
    "def mean_non_zero(x):\n",
    "    return np.mean(x[x != 0]) if np.any(x != 0) else 0\n",
    "\n",
    "def median_non_zero(x):\n",
    "    return np.median(x[x != 0]) if np.any(x != 0) else 0\n",
    "\n",
    "def std_non_zero(x):\n",
    "    return np.std(x[x != 0]) if np.any(x != 0) else 0"
   ]
  },
  {
   "cell_type": "code",
   "execution_count": 359,
   "id": "f3152028",
   "metadata": {},
   "outputs": [
    {
     "name": "stderr",
     "output_type": "stream",
     "text": [
      "/var/folders/p9/_x396g015hb1f7h6k_mytrnc0000gn/T/ipykernel_52927/1055073687.py:1: SettingWithCopyWarning: \n",
      "A value is trying to be set on a copy of a slice from a DataFrame\n",
      "\n",
      "See the caveats in the documentation: https://pandas.pydata.org/pandas-docs/stable/user_guide/indexing.html#returning-a-view-versus-a-copy\n",
      "  post_filtered.drop(post_filtered[post_filtered['restaurant_name'] == 'Panera Bread'].index, inplace=True)\n"
     ]
    }
   ],
   "source": [
    "post_filtered.drop(post_filtered[post_filtered['restaurant_name'] == 'Panera Bread'].index, inplace=True)\n"
   ]
  },
  {
   "cell_type": "code",
   "execution_count": 360,
   "id": "21159f34",
   "metadata": {},
   "outputs": [
    {
     "data": {
      "text/plain": [
       "6"
      ]
     },
     "execution_count": 360,
     "metadata": {},
     "output_type": "execute_result"
    }
   ],
   "source": [
    "#Unique Restaurants\n",
    "len(post_filtered['restaurant_name'].unique())"
   ]
  },
  {
   "cell_type": "code",
   "execution_count": 361,
   "id": "e96d38c5",
   "metadata": {},
   "outputs": [
    {
     "data": {
      "text/plain": [
       "array(['Outback Steakhouse', 'Buffalo Wild Wings', 'Applebee', 'Denny',\n",
       "       'Red Robin', 'TGI Fridays'], dtype=object)"
      ]
     },
     "execution_count": 361,
     "metadata": {},
     "output_type": "execute_result"
    }
   ],
   "source": [
    "post_filtered['restaurant_name'].unique()"
   ]
  },
  {
   "cell_type": "code",
   "execution_count": 362,
   "id": "f3fd7e5b",
   "metadata": {
    "scrolled": true
   },
   "outputs": [
    {
     "data": {
      "text/plain": [
       "122"
      ]
     },
     "execution_count": 362,
     "metadata": {},
     "output_type": "execute_result"
    }
   ],
   "source": [
    "#Unique Counties \n",
    "len(post_filtered['county_name'].unique())"
   ]
  },
  {
   "cell_type": "code",
   "execution_count": 363,
   "id": "db6cad15",
   "metadata": {},
   "outputs": [
    {
     "data": {
      "text/plain": [
       "692"
      ]
     },
     "execution_count": 363,
     "metadata": {},
     "output_type": "execute_result"
    }
   ],
   "source": [
    "len(post_filtered['restaurant_location'].unique())"
   ]
  },
  {
   "cell_type": "code",
   "execution_count": 365,
   "id": "e0336e3a",
   "metadata": {
    "scrolled": true
   },
   "outputs": [
    {
     "data": {
      "text/plain": [
       "12.533927536231829"
      ]
     },
     "execution_count": 365,
     "metadata": {},
     "output_type": "execute_result"
    }
   ],
   "source": [
    "mean_non_zero(post_filtered['cheeseburger'])"
   ]
  },
  {
   "cell_type": "code",
   "execution_count": 180,
   "id": "b50f7bd4",
   "metadata": {},
   "outputs": [],
   "source": [
    "combined.to_csv(\"final_processed_ubereats_ca_smallff_05272024\")"
   ]
  },
  {
   "cell_type": "markdown",
   "id": "ed6658d8",
   "metadata": {},
   "source": [
    "sanity check"
   ]
  },
  {
   "cell_type": "code",
   "execution_count": 64,
   "id": "5ae27221",
   "metadata": {},
   "outputs": [],
   "source": [
    "ca_ff['restaurant_location'] = ca_ff['restaurant_location'].astype('string')\n",
    "ca_ff['restaurant_location'] = ca_ff['restaurant_location'].str.lower()"
   ]
  },
  {
   "cell_type": "code",
   "execution_count": 65,
   "id": "2d11c8b0",
   "metadata": {},
   "outputs": [
    {
     "name": "stdout",
     "output_type": "stream",
     "text": [
      "   Unnamed: 0 restaurant_name                  menu_item  menu_item_price  \\\n",
      "0           0        McDonald        Medium French Fries             4.69   \n",
      "1           1        McDonald  10 pc. Chicken McNuggets®             6.69   \n",
      "2           2        McDonald                   Big Mac®             6.79   \n",
      "3           3        McDonald        2 Cheeseburger Meal            10.99   \n",
      "4           4        McDonald               Cheeseburger             3.49   \n",
      "\n",
      "                       restaurant_location  \\\n",
      "0  1330 jackson st, oakland, ca, 94612, us   \n",
      "1  1330 jackson st, oakland, ca, 94612, us   \n",
      "2  1330 jackson st, oakland, ca, 94612, us   \n",
      "3  1330 jackson st, oakland, ca, 94612, us   \n",
      "4  1330 jackson st, oakland, ca, 94612, us   \n",
      "\n",
      "                           inputted_location restaurant_rating  \\\n",
      "0  1 Frank H. Ogawa Plaza, Oakland, CA 94612              4.6    \n",
      "1  1 Frank H. Ogawa Plaza, Oakland, CA 94612              4.6    \n",
      "2  1 Frank H. Ogawa Plaza, Oakland, CA 94612              4.6    \n",
      "3  1 Frank H. Ogawa Plaza, Oakland, CA 94612              4.6    \n",
      "4  1 Frank H. Ogawa Plaza, Oakland, CA 94612              4.6    \n",
      "\n",
      "  number_of_ratings restaurant_distance state    zip county_name  \n",
      "0              100+              0.5 mi    ca  94612     Alameda  \n",
      "1              100+              0.5 mi    ca  94612     Alameda  \n",
      "2              100+              0.5 mi    ca  94612     Alameda  \n",
      "3              100+              0.5 mi    ca  94612     Alameda  \n",
      "4              100+              0.5 mi    ca  94612     Alameda  \n"
     ]
    }
   ],
   "source": [
    "pattern = r\",\\s*([a-zA-Z]{2})\\s*,?\\s*(\\d{5}(?:-\\d{4})?)\"\n",
    "\n",
    "# Function to extract state and zip code from an address string\n",
    "def extract_state_zip(address):\n",
    "    match = re.search(pattern, address)\n",
    "    if match:\n",
    "        state, zip_code = match.groups()\n",
    "        return state, zip_code\n",
    "    else:\n",
    "        return None, None\n",
    "\n",
    "# Assuming ca_ff is your DataFrame\n",
    "# Ensure the 'restaurant_location' column is of string type\n",
    "ca_ff['restaurant_location'] = ca_ff['restaurant_location'].astype(str)\n",
    "\n",
    "# Apply the function to extract state and zip code\n",
    "ca_ff[['state', 'zip']] = ca_ff['restaurant_location'].apply(lambda x: pd.Series(extract_state_zip(x)))\n",
    "\n",
    "# Convert 'zip' column to integer, handling potential None values\n",
    "ca_ff['zip'] = ca_ff['zip'].str.split('-').str[0].astype('Int64')\n",
    "\n",
    "# Assuming ca_zip_count is your DataFrame with columns 'zip' and 'county'\n",
    "# Ensure the 'zip' column in ca_zip_count is also of integer type\n",
    "ca_zip_count['zip'] = ca_zip_count['zip'].astype('Int64')\n",
    "\n",
    "ca_zip_count = ca_zip_count[['zip', 'county_name']]\n",
    "\n",
    "# Merge ca_ff with ca_zip_count on 'zip' column to get the county\n",
    "ca_ff = ca_ff.merge(ca_zip_count, on='zip', how='left')\n",
    "\n",
    "# Check the result\n",
    "print(ca_ff.head())"
   ]
  },
  {
   "cell_type": "code",
   "execution_count": 93,
   "id": "8d411679",
   "metadata": {},
   "outputs": [
    {
     "data": {
      "text/plain": [
       "array(['San Bernardino', 'Los Angeles', 'Kern', 'Sacramento',\n",
       "       'San Joaquin', 'Solano', 'Orange', 'Sonoma', 'Santa Clara',\n",
       "       'San Francisco', 'San Mateo', 'San Diego', 'Santa Barbara',\n",
       "       'Contra Costa', 'Placer', 'Santa Cruz', 'Monterey', 'Riverside',\n",
       "       'Fresno', 'Stanislaus', 'Alameda', 'Tulare', 'San Luis Obispo',\n",
       "       'Yolo', 'Ventura', 'Lake', 'Wake', 'Marin', 'Lancaster',\n",
       "       'New Hanover', 'Orleans', 'Hidalgo', 'Rutherford', 'Lehigh',\n",
       "       'Greenville', 'Berks', 'Tarrant', 'Mecklenburg', 'Napa', 'Madera',\n",
       "       'Kings', 'El Dorado'], dtype=object)"
      ]
     },
     "execution_count": 93,
     "metadata": {},
     "output_type": "execute_result"
    }
   ],
   "source": [
    "ca_ff['county_name'].unique()"
   ]
  },
  {
   "cell_type": "code",
   "execution_count": 16,
   "id": "71e73bf8",
   "metadata": {},
   "outputs": [
    {
     "data": {
      "text/html": [
       "<div>\n",
       "<style scoped>\n",
       "    .dataframe tbody tr th:only-of-type {\n",
       "        vertical-align: middle;\n",
       "    }\n",
       "\n",
       "    .dataframe tbody tr th {\n",
       "        vertical-align: top;\n",
       "    }\n",
       "\n",
       "    .dataframe thead th {\n",
       "        text-align: right;\n",
       "    }\n",
       "</style>\n",
       "<table border=\"1\" class=\"dataframe\">\n",
       "  <thead>\n",
       "    <tr style=\"text-align: right;\">\n",
       "      <th></th>\n",
       "      <th>hamburger</th>\n",
       "      <th>cheeseburger</th>\n",
       "      <th>specialty_item</th>\n",
       "      <th>restaurant_name</th>\n",
       "    </tr>\n",
       "  </thead>\n",
       "  <tbody>\n",
       "    <tr>\n",
       "      <th>0</th>\n",
       "      <td>3.69</td>\n",
       "      <td>4.59</td>\n",
       "      <td>8.19</td>\n",
       "      <td>McDonald</td>\n",
       "    </tr>\n",
       "    <tr>\n",
       "      <th>1</th>\n",
       "      <td>3.36</td>\n",
       "      <td>3.74</td>\n",
       "      <td>6.86</td>\n",
       "      <td>Jack in the Box</td>\n",
       "    </tr>\n",
       "    <tr>\n",
       "      <th>2</th>\n",
       "      <td>5.39</td>\n",
       "      <td>3.49</td>\n",
       "      <td>10.39</td>\n",
       "      <td>Burger King</td>\n",
       "    </tr>\n",
       "    <tr>\n",
       "      <th>3</th>\n",
       "      <td>NaN</td>\n",
       "      <td>5.74</td>\n",
       "      <td>8.74</td>\n",
       "      <td>Carls Jr</td>\n",
       "    </tr>\n",
       "    <tr>\n",
       "      <th>4</th>\n",
       "      <td>3.89</td>\n",
       "      <td>4.39</td>\n",
       "      <td>8.29</td>\n",
       "      <td>McDonald</td>\n",
       "    </tr>\n",
       "    <tr>\n",
       "      <th>...</th>\n",
       "      <td>...</td>\n",
       "      <td>...</td>\n",
       "      <td>...</td>\n",
       "      <td>...</td>\n",
       "    </tr>\n",
       "    <tr>\n",
       "      <th>1315</th>\n",
       "      <td>11.15</td>\n",
       "      <td>12.47</td>\n",
       "      <td>15.47</td>\n",
       "      <td>Five Guys</td>\n",
       "    </tr>\n",
       "    <tr>\n",
       "      <th>1316</th>\n",
       "      <td>9.59</td>\n",
       "      <td>10.79</td>\n",
       "      <td>13.67</td>\n",
       "      <td>Five Guys</td>\n",
       "    </tr>\n",
       "    <tr>\n",
       "      <th>1317</th>\n",
       "      <td>10.19</td>\n",
       "      <td>11.39</td>\n",
       "      <td>14.39</td>\n",
       "      <td>Five Guys</td>\n",
       "    </tr>\n",
       "    <tr>\n",
       "      <th>1318</th>\n",
       "      <td>11.15</td>\n",
       "      <td>12.47</td>\n",
       "      <td>15.47</td>\n",
       "      <td>Five Guys</td>\n",
       "    </tr>\n",
       "    <tr>\n",
       "      <th>1319</th>\n",
       "      <td>11.15</td>\n",
       "      <td>12.47</td>\n",
       "      <td>15.47</td>\n",
       "      <td>Five Guys</td>\n",
       "    </tr>\n",
       "  </tbody>\n",
       "</table>\n",
       "<p>1320 rows × 4 columns</p>\n",
       "</div>"
      ],
      "text/plain": [
       "      hamburger  cheeseburger  specialty_item  restaurant_name\n",
       "0          3.69          4.59            8.19         McDonald\n",
       "1          3.36          3.74            6.86  Jack in the Box\n",
       "2          5.39          3.49           10.39      Burger King\n",
       "3           NaN          5.74            8.74         Carls Jr\n",
       "4          3.89          4.39            8.29         McDonald\n",
       "...         ...           ...             ...              ...\n",
       "1315      11.15         12.47           15.47        Five Guys\n",
       "1316       9.59         10.79           13.67        Five Guys\n",
       "1317      10.19         11.39           14.39        Five Guys\n",
       "1318      11.15         12.47           15.47        Five Guys\n",
       "1319      11.15         12.47           15.47        Five Guys\n",
       "\n",
       "[1320 rows x 4 columns]"
      ]
     },
     "execution_count": 16,
     "metadata": {},
     "output_type": "execute_result"
    }
   ],
   "source": [
    "ca_ff[['hamburger', 'cheeseburger', 'specialty_item', 'restaurant_name']]"
   ]
  },
  {
   "cell_type": "code",
   "execution_count": 20,
   "id": "f6a4e204",
   "metadata": {},
   "outputs": [
    {
     "data": {
      "text/plain": [
       "8.86307283763271"
      ]
     },
     "execution_count": 20,
     "metadata": {},
     "output_type": "execute_result"
    }
   ],
   "source": [
    "mean_non_zero(ca_ff['specialty_item'])"
   ]
  },
  {
   "cell_type": "code",
   "execution_count": 121,
   "id": "359d4538",
   "metadata": {},
   "outputs": [
    {
     "data": {
      "text/html": [
       "<div>\n",
       "<style scoped>\n",
       "    .dataframe tbody tr th:only-of-type {\n",
       "        vertical-align: middle;\n",
       "    }\n",
       "\n",
       "    .dataframe tbody tr th {\n",
       "        vertical-align: top;\n",
       "    }\n",
       "\n",
       "    .dataframe thead th {\n",
       "        text-align: right;\n",
       "    }\n",
       "</style>\n",
       "<table border=\"1\" class=\"dataframe\">\n",
       "  <thead>\n",
       "    <tr style=\"text-align: right;\">\n",
       "      <th></th>\n",
       "      <th>Restaurant Name</th>\n",
       "      <th>Average Menu Item Price</th>\n",
       "      <th>Median Menu Item Price</th>\n",
       "      <th>Std Dev Menu Item Price</th>\n",
       "      <th>Average Restaurant Rating</th>\n",
       "      <th>Average Menu Item Count</th>\n",
       "      <th>Average Hamburger Price</th>\n",
       "      <th>Average Cheeseburger Price</th>\n",
       "      <th>Average Specialty Item Price</th>\n",
       "      <th>Average Fries Price</th>\n",
       "      <th>Average Combo Price</th>\n",
       "      <th>County Count</th>\n",
       "    </tr>\n",
       "  </thead>\n",
       "  <tbody>\n",
       "    <tr>\n",
       "      <th>0</th>\n",
       "      <td>Applebee</td>\n",
       "      <td>20.593280</td>\n",
       "      <td>15.296237</td>\n",
       "      <td>20.962820</td>\n",
       "      <td>4.273656</td>\n",
       "      <td>140.387097</td>\n",
       "      <td>13.808602</td>\n",
       "      <td>14.706720</td>\n",
       "      <td>NaN</td>\n",
       "      <td>14.875920</td>\n",
       "      <td>NaN</td>\n",
       "      <td>186</td>\n",
       "    </tr>\n",
       "    <tr>\n",
       "      <th>1</th>\n",
       "      <td>Buffalo Wild Wings</td>\n",
       "      <td>7.729876</td>\n",
       "      <td>6.330000</td>\n",
       "      <td>8.967980</td>\n",
       "      <td>4.193636</td>\n",
       "      <td>109.500000</td>\n",
       "      <td>NaN</td>\n",
       "      <td>13.498182</td>\n",
       "      <td>NaN</td>\n",
       "      <td>4.867315</td>\n",
       "      <td>NaN</td>\n",
       "      <td>110</td>\n",
       "    </tr>\n",
       "    <tr>\n",
       "      <th>2</th>\n",
       "      <td>Denny</td>\n",
       "      <td>10.023410</td>\n",
       "      <td>8.517061</td>\n",
       "      <td>6.086510</td>\n",
       "      <td>4.223030</td>\n",
       "      <td>147.981818</td>\n",
       "      <td>NaN</td>\n",
       "      <td>13.658405</td>\n",
       "      <td>NaN</td>\n",
       "      <td>5.215333</td>\n",
       "      <td>NaN</td>\n",
       "      <td>165</td>\n",
       "    </tr>\n",
       "    <tr>\n",
       "      <th>3</th>\n",
       "      <td>Outback Steakhouse</td>\n",
       "      <td>18.067444</td>\n",
       "      <td>14.071364</td>\n",
       "      <td>12.957996</td>\n",
       "      <td>4.385714</td>\n",
       "      <td>109.324675</td>\n",
       "      <td>14.948533</td>\n",
       "      <td>10.470519</td>\n",
       "      <td>NaN</td>\n",
       "      <td>5.064026</td>\n",
       "      <td>NaN</td>\n",
       "      <td>77</td>\n",
       "    </tr>\n",
       "    <tr>\n",
       "      <th>4</th>\n",
       "      <td>Panera Bread</td>\n",
       "      <td>8.875863</td>\n",
       "      <td>7.863333</td>\n",
       "      <td>7.724865</td>\n",
       "      <td>4.653333</td>\n",
       "      <td>184.666667</td>\n",
       "      <td>NaN</td>\n",
       "      <td>NaN</td>\n",
       "      <td>NaN</td>\n",
       "      <td>NaN</td>\n",
       "      <td>NaN</td>\n",
       "      <td>15</td>\n",
       "    </tr>\n",
       "    <tr>\n",
       "      <th>5</th>\n",
       "      <td>Red Robin</td>\n",
       "      <td>12.050759</td>\n",
       "      <td>11.203814</td>\n",
       "      <td>7.822556</td>\n",
       "      <td>4.467797</td>\n",
       "      <td>130.644068</td>\n",
       "      <td>NaN</td>\n",
       "      <td>8.345254</td>\n",
       "      <td>NaN</td>\n",
       "      <td>4.543158</td>\n",
       "      <td>NaN</td>\n",
       "      <td>59</td>\n",
       "    </tr>\n",
       "    <tr>\n",
       "      <th>6</th>\n",
       "      <td>TGI Fridays</td>\n",
       "      <td>25.089391</td>\n",
       "      <td>16.582069</td>\n",
       "      <td>26.598320</td>\n",
       "      <td>4.179310</td>\n",
       "      <td>179.068966</td>\n",
       "      <td>NaN</td>\n",
       "      <td>13.705862</td>\n",
       "      <td>NaN</td>\n",
       "      <td>3.167931</td>\n",
       "      <td>NaN</td>\n",
       "      <td>29</td>\n",
       "    </tr>\n",
       "  </tbody>\n",
       "</table>\n",
       "</div>"
      ],
      "text/plain": [
       "      Restaurant Name  Average Menu Item Price  Median Menu Item Price  \\\n",
       "0            Applebee                20.593280               15.296237   \n",
       "1  Buffalo Wild Wings                 7.729876                6.330000   \n",
       "2               Denny                10.023410                8.517061   \n",
       "3  Outback Steakhouse                18.067444               14.071364   \n",
       "4        Panera Bread                 8.875863                7.863333   \n",
       "5           Red Robin                12.050759               11.203814   \n",
       "6         TGI Fridays                25.089391               16.582069   \n",
       "\n",
       "   Std Dev Menu Item Price  Average Restaurant Rating  \\\n",
       "0                20.962820                   4.273656   \n",
       "1                 8.967980                   4.193636   \n",
       "2                 6.086510                   4.223030   \n",
       "3                12.957996                   4.385714   \n",
       "4                 7.724865                   4.653333   \n",
       "5                 7.822556                   4.467797   \n",
       "6                26.598320                   4.179310   \n",
       "\n",
       "   Average Menu Item Count  Average Hamburger Price  \\\n",
       "0               140.387097                13.808602   \n",
       "1               109.500000                      NaN   \n",
       "2               147.981818                      NaN   \n",
       "3               109.324675                14.948533   \n",
       "4               184.666667                      NaN   \n",
       "5               130.644068                      NaN   \n",
       "6               179.068966                      NaN   \n",
       "\n",
       "   Average Cheeseburger Price  Average Specialty Item Price  \\\n",
       "0                   14.706720                           NaN   \n",
       "1                   13.498182                           NaN   \n",
       "2                   13.658405                           NaN   \n",
       "3                   10.470519                           NaN   \n",
       "4                         NaN                           NaN   \n",
       "5                    8.345254                           NaN   \n",
       "6                   13.705862                           NaN   \n",
       "\n",
       "   Average Fries Price  Average Combo Price  County Count  \n",
       "0            14.875920                  NaN           186  \n",
       "1             4.867315                  NaN           110  \n",
       "2             5.215333                  NaN           165  \n",
       "3             5.064026                  NaN            77  \n",
       "4                  NaN                  NaN            15  \n",
       "5             4.543158                  NaN            59  \n",
       "6             3.167931                  NaN            29  "
      ]
     },
     "execution_count": 121,
     "metadata": {},
     "output_type": "execute_result"
    }
   ],
   "source": [
    "agg_dict = {\n",
    "    'menu_item_price mean_non_zero': mean_non_zero,\n",
    "    'menu_item_price median_non_zero': mean_non_zero,\n",
    "    'menu_item_price std_non_zero': mean_non_zero,\n",
    "    'restaurant_rating mean': mean_non_zero,\n",
    "    'menu_item count': mean_non_zero,\n",
    "    'hamburger': mean_non_zero,\n",
    "    'cheeseburger': mean_non_zero,\n",
    "    'specialty_item': mean_non_zero,\n",
    "    'fries': mean_non_zero,\n",
    "    'combo': mean_non_zero,\n",
    "    'county_name': 'count'\n",
    "}\n",
    "\n",
    "# Perform the groupby and aggregation\n",
    "result = ca_ff.groupby(\"restaurant_name\").agg(agg_dict)\n",
    "\n",
    "# Reset index to turn 'restaurant_name' from index to a column\n",
    "result = result.reset_index()\n",
    "\n",
    "# Rename the columns to more readable names\n",
    "result.columns = [\n",
    "    'Restaurant Name', \n",
    "    'Average Menu Item Price', \n",
    "    'Median Menu Item Price', \n",
    "    'Std Dev Menu Item Price', \n",
    "    'Average Restaurant Rating', \n",
    "    'Average Menu Item Count', \n",
    "    'Average Hamburger Price', \n",
    "    'Average Cheeseburger Price', \n",
    "    'Average Specialty Item Price', \n",
    "    'Average Fries Price', \n",
    "    'Average Combo Price', \n",
    "    'County Count'\n",
    "]\n",
    "\n",
    "result"
   ]
  }
 ],
 "metadata": {
  "kernelspec": {
   "display_name": "Python 3 (ipykernel)",
   "language": "python",
   "name": "python3"
  },
  "language_info": {
   "codemirror_mode": {
    "name": "ipython",
    "version": 3
   },
   "file_extension": ".py",
   "mimetype": "text/x-python",
   "name": "python",
   "nbconvert_exporter": "python",
   "pygments_lexer": "ipython3",
   "version": "3.9.13"
  }
 },
 "nbformat": 4,
 "nbformat_minor": 5
}
